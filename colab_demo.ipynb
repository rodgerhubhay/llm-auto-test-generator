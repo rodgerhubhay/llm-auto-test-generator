!git clone https://github.com/youruser/llm-auto-test-generator.git
%cd llm-auto-test-generator
!pip install -r requirements.txt
import generate_tests
generate_tests.main()
